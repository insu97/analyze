{
 "cells": [
  {
   "cell_type": "markdown",
   "id": "bdc9f087",
   "metadata": {},
   "source": [
    "- 단점 : 알고리즘의 특성 상 가장 가까운 직선거리를 계산하기 때문에 데이터가 아주 많은 경우 사용하기 어렵다.\n",
    "\n",
    "- 기본 파라미터 값 : 5"
   ]
  },
  {
   "cell_type": "markdown",
   "id": "8721eb2a",
   "metadata": {},
   "source": [
    "# 도미 and 빙어 데이터 준비"
   ]
  },
  {
   "cell_type": "code",
   "execution_count": 36,
   "id": "95168ec1",
   "metadata": {
    "ExecuteTime": {
     "end_time": "2023-03-09T04:47:24.432436Z",
     "start_time": "2023-03-09T04:47:24.419816Z"
    }
   },
   "outputs": [],
   "source": [
    "fish_length = [25.4, 26.3, 26.5, 29.0, 29.0, 29.7, 29.7, 30.0, 30.0, 30.7, 31.0, 31.0, \n",
    "                31.5, 32.0, 32.0, 32.0, 33.0, 33.0, 33.5, 33.5, 34.0, 34.0, 34.5, 35.0, \n",
    "                35.0, 35.0, 35.0, 36.0, 36.0, 37.0, 38.5, 38.5, 39.5, 41.0, 41.0, 9.8, \n",
    "                10.5, 10.6, 11.0, 11.2, 11.3, 11.8, 11.8, 12.0, 12.2, 12.4, 13.0, 14.3, 15.0]\n",
    "fish_weight = [242.0, 290.0, 340.0, 363.0, 430.0, 450.0, 500.0, 390.0, 450.0, 500.0, 475.0, 500.0, \n",
    "                500.0, 340.0, 600.0, 600.0, 700.0, 700.0, 610.0, 650.0, 575.0, 685.0, 620.0, 680.0, \n",
    "                700.0, 725.0, 720.0, 714.0, 850.0, 1000.0, 920.0, 955.0, 925.0, 975.0, 950.0, 6.7, \n",
    "                7.5, 7.0, 9.7, 9.8, 8.7, 10.0, 9.9, 9.8, 12.2, 13.4, 12.2, 19.7, 19.9]"
   ]
  },
  {
   "cell_type": "markdown",
   "id": "2d6dfe1e",
   "metadata": {},
   "source": [
    "# 데이터 준비"
   ]
  },
  {
   "cell_type": "code",
   "execution_count": 37,
   "id": "9328118f",
   "metadata": {
    "ExecuteTime": {
     "end_time": "2023-03-09T04:47:24.664946Z",
     "start_time": "2023-03-09T04:47:24.651520Z"
    }
   },
   "outputs": [],
   "source": [
    "fish_data = [[l,w] for l, w in zip(fish_length, fish_weight)]"
   ]
  },
  {
   "cell_type": "code",
   "execution_count": 38,
   "id": "cc417d74",
   "metadata": {
    "ExecuteTime": {
     "end_time": "2023-03-09T04:47:24.773800Z",
     "start_time": "2023-03-09T04:47:24.762509Z"
    }
   },
   "outputs": [],
   "source": [
    "fish_target = [1] * 35 + [0] * 14"
   ]
  },
  {
   "cell_type": "markdown",
   "id": "fe945bce",
   "metadata": {},
   "source": [
    "# 샘플링 편향"
   ]
  },
  {
   "cell_type": "code",
   "execution_count": 39,
   "id": "106419cf",
   "metadata": {
    "ExecuteTime": {
     "end_time": "2023-03-09T04:47:24.990527Z",
     "start_time": "2023-03-09T04:47:24.980727Z"
    }
   },
   "outputs": [],
   "source": [
    "# 기본적으로 25%를 테스트 데이터로 나눈다.\n",
    "from sklearn.model_selection import train_test_split\n",
    "\n",
    "train_input, test_input, train_target, test_target = train_test_split(fish_data, fish_target, stratify=fish_target, random_state=42)"
   ]
  },
  {
   "cell_type": "markdown",
   "id": "baf110e8",
   "metadata": {},
   "source": [
    "# 스케일 조정"
   ]
  },
  {
   "cell_type": "markdown",
   "id": "8d789ddf",
   "metadata": {},
   "source": [
    "## 표준점수(standard score)(=z_score)"
   ]
  },
  {
   "cell_type": "code",
   "execution_count": 40,
   "id": "d2b6bdcc",
   "metadata": {
    "ExecuteTime": {
     "end_time": "2023-03-09T04:47:26.985670Z",
     "start_time": "2023-03-09T04:47:26.969648Z"
    }
   },
   "outputs": [],
   "source": [
    "mean = np.mean(train_input, axis = 0)\n",
    "std = np.std(train_input, axis = 0)\n",
    "\n",
    "train_scaled = (train_input - mean) / std\n",
    "test_scaled = (test_input - mean) / std"
   ]
  },
  {
   "cell_type": "markdown",
   "id": "8942c628",
   "metadata": {},
   "source": [
    "# 모델 사용"
   ]
  },
  {
   "cell_type": "code",
   "execution_count": 41,
   "id": "8571a782",
   "metadata": {
    "ExecuteTime": {
     "end_time": "2023-03-09T04:47:27.967161Z",
     "start_time": "2023-03-09T04:47:27.959726Z"
    }
   },
   "outputs": [],
   "source": [
    "from sklearn.neighbors import KNeighborsClassifier\n",
    "\n",
    "kn = KNeighborsClassifier()"
   ]
  },
  {
   "cell_type": "code",
   "execution_count": 42,
   "id": "6e464afa",
   "metadata": {
    "ExecuteTime": {
     "end_time": "2023-03-09T04:47:28.277840Z",
     "start_time": "2023-03-09T04:47:28.268903Z"
    }
   },
   "outputs": [
    {
     "data": {
      "text/plain": [
       "KNeighborsClassifier()"
      ]
     },
     "execution_count": 42,
     "metadata": {},
     "output_type": "execute_result"
    }
   ],
   "source": [
    "kn.fit(train_input, train_target)"
   ]
  },
  {
   "cell_type": "code",
   "execution_count": 43,
   "id": "85903c3a",
   "metadata": {
    "ExecuteTime": {
     "end_time": "2023-03-09T04:47:28.618223Z",
     "start_time": "2023-03-09T04:47:28.600111Z"
    }
   },
   "outputs": [
    {
     "name": "stdout",
     "output_type": "stream",
     "text": [
      "1.0\n",
      "1.0\n"
     ]
    }
   ],
   "source": [
    "# 정확도\n",
    "print(kn.score(train_input, train_target))\n",
    "print(kn.score(test_input, test_target))"
   ]
  },
  {
   "cell_type": "markdown",
   "id": "2a364d12",
   "metadata": {},
   "source": [
    "# 파라미터 조정"
   ]
  },
  {
   "cell_type": "code",
   "execution_count": 44,
   "id": "fd97d9ac",
   "metadata": {
    "ExecuteTime": {
     "end_time": "2023-03-09T04:47:30.245345Z",
     "start_time": "2023-03-09T04:47:30.219627Z"
    }
   },
   "outputs": [
    {
     "name": "stdout",
     "output_type": "stream",
     "text": [
      "12 0.9795918367346939\n"
     ]
    }
   ],
   "source": [
    "for n in range(5, 50):\n",
    "    kn.n_neighbors = n\n",
    "    score = kn.score(fish_data, fish_target)\n",
    "    if score < 1 :\n",
    "        print(n, score)\n",
    "        break"
   ]
  }
 ],
 "metadata": {
  "hide_input": false,
  "kernelspec": {
   "display_name": "Python 3 (ipykernel)",
   "language": "python",
   "name": "python3"
  },
  "language_info": {
   "codemirror_mode": {
    "name": "ipython",
    "version": 3
   },
   "file_extension": ".py",
   "mimetype": "text/x-python",
   "name": "python",
   "nbconvert_exporter": "python",
   "pygments_lexer": "ipython3",
   "version": "3.9.13"
  },
  "toc": {
   "base_numbering": 1,
   "nav_menu": {},
   "number_sections": true,
   "sideBar": true,
   "skip_h1_title": false,
   "title_cell": "Table of Contents",
   "title_sidebar": "Contents",
   "toc_cell": false,
   "toc_position": {},
   "toc_section_display": true,
   "toc_window_display": true
  },
  "varInspector": {
   "cols": {
    "lenName": 16,
    "lenType": 16,
    "lenVar": 40
   },
   "kernels_config": {
    "python": {
     "delete_cmd_postfix": "",
     "delete_cmd_prefix": "del ",
     "library": "var_list.py",
     "varRefreshCmd": "print(var_dic_list())"
    },
    "r": {
     "delete_cmd_postfix": ") ",
     "delete_cmd_prefix": "rm(",
     "library": "var_list.r",
     "varRefreshCmd": "cat(var_dic_list()) "
    }
   },
   "types_to_exclude": [
    "module",
    "function",
    "builtin_function_or_method",
    "instance",
    "_Feature"
   ],
   "window_display": false
  }
 },
 "nbformat": 4,
 "nbformat_minor": 5
}
