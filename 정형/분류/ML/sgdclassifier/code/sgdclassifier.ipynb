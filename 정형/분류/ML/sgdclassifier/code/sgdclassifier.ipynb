{
 "cells": [
  {
   "cell_type": "markdown",
   "id": "4563adbb-1757-41f1-9b25-0006a37c4dcf",
   "metadata": {},
   "source": [
    "- 훈련세트에서\n",
    "    - 1개씩 꺼내기 : 확률적 경사 하강법\n",
    "    - 여러 개씩 꺼내기 : 미니배치 경사 하강법\n",
    "    - 몽땅 꺼내기 : 배치 경사 하강법\n",
    "    \n",
    "- 손실 함수(loss function)\n",
    "    - 어떤 문제에서 ML 알고리즘이 얼마나 엉터리인지 측정하는 값\n",
    "    - 값이 작을수록 좋다.\n",
    "    - 하지만 어떤 값이 최솟값인지는 모른다 -> 만족할만한 값이라면 ok.\n",
    "    \n",
    "* 손실함수 loss의 디폴트 값 : 'hinge'"
   ]
  },
  {
   "cell_type": "code",
   "execution_count": 22,
   "id": "9f7bc3e8-fe3b-4a65-9968-ee8c287ac10c",
   "metadata": {},
   "outputs": [],
   "source": [
    "import warnings\n",
    "warnings.filterwarnings('ignore')"
   ]
  },
  {
   "cell_type": "markdown",
   "id": "98570840-35b7-4a86-a5c5-57b8cfaa1853",
   "metadata": {},
   "source": [
    "# 데이터 준비"
   ]
  },
  {
   "cell_type": "code",
   "execution_count": 1,
   "id": "0b53cf61-7c05-4030-9c64-393881a91570",
   "metadata": {},
   "outputs": [],
   "source": [
    "import pandas as pd\n",
    "fish = pd.read_csv(\"https://bit.ly/fish_csv_data\")"
   ]
  },
  {
   "cell_type": "code",
   "execution_count": 16,
   "id": "b61b73e5-ee1a-4a3f-ae30-c1ad8e2d6e9a",
   "metadata": {},
   "outputs": [],
   "source": [
    "fish_input = fish.iloc[:,1:].to_numpy()\n",
    "\n",
    "fish_target = fish['Species'].to_numpy()"
   ]
  },
  {
   "cell_type": "code",
   "execution_count": 17,
   "id": "6f2eb726-e065-4b60-846a-988fde84b2be",
   "metadata": {},
   "outputs": [],
   "source": [
    "# 기본적으로 25%를 테스트 데이터로 나눈다.\n",
    "from sklearn.model_selection import train_test_split\n",
    "\n",
    "train_input, test_input, train_target, test_target = train_test_split(fish_input, fish_target, random_state=42)"
   ]
  },
  {
   "cell_type": "code",
   "execution_count": 18,
   "id": "d2f9c713-4d57-49f9-95a5-5ecf45f6dfa0",
   "metadata": {},
   "outputs": [],
   "source": [
    "from sklearn.preprocessing import StandardScaler\n",
    "ss = StandardScaler()\n",
    "ss.fit(train_input)\n",
    "\n",
    "train_scaled = ss.transform(train_input)\n",
    "test_scaled = ss.transform(test_input)"
   ]
  },
  {
   "cell_type": "markdown",
   "id": "59454072-1bab-4621-a3e8-8d70eac9ce6a",
   "metadata": {},
   "source": [
    "# 학습"
   ]
  },
  {
   "cell_type": "code",
   "execution_count": 23,
   "id": "64242b18-832d-4a52-85de-8f3ca435e00f",
   "metadata": {},
   "outputs": [
    {
     "name": "stdout",
     "output_type": "stream",
     "text": [
      "0.773109243697479\n",
      "0.775\n"
     ]
    }
   ],
   "source": [
    "from sklearn.linear_model import SGDClassifier\n",
    "\n",
    "sc = SGDClassifier(loss='log', max_iter=10, random_state=42)\n",
    "sc.fit(train_scaled, train_target)\n",
    "print(sc.score(train_scaled, train_target))\n",
    "print(sc.score(test_scaled, test_target))"
   ]
  },
  {
   "cell_type": "markdown",
   "id": "4d3df7f0-f14f-4cfa-95a2-10d50b9d9dc4",
   "metadata": {},
   "source": [
    "## 점진적 학습"
   ]
  },
  {
   "cell_type": "code",
   "execution_count": 25,
   "id": "ad2a19b7-d1bf-4edb-bf64-bc1988c0b42e",
   "metadata": {},
   "outputs": [
    {
     "name": "stdout",
     "output_type": "stream",
     "text": [
      "0.7815126050420168\n",
      "0.8\n"
     ]
    }
   ],
   "source": [
    "sc.partial_fit(train_scaled, train_target)\n",
    "\n",
    "print(sc.score(train_scaled, train_target))\n",
    "print(sc.score(test_scaled, test_target))"
   ]
  },
  {
   "cell_type": "markdown",
   "id": "359784fd-9464-49d8-b2e9-46769c9ba87b",
   "metadata": {},
   "source": [
    "## 과대적합 / 과소적합 최적화"
   ]
  },
  {
   "cell_type": "code",
   "execution_count": 26,
   "id": "02092196-be54-470c-ac8e-0fcdd211b139",
   "metadata": {},
   "outputs": [],
   "source": [
    "import numpy as np\n",
    "\n",
    "sc = SGDClassifier(loss='log', random_state=42)\n",
    "train_score = []\n",
    "test_score = []\n",
    "classes = np.unique(train_target)"
   ]
  },
  {
   "cell_type": "code",
   "execution_count": 28,
   "id": "a177e90a-6b43-4ca5-96fc-e743d81c1f74",
   "metadata": {},
   "outputs": [],
   "source": [
    "for _ in range(0, 300) :\n",
    "    sc.partial_fit(train_scaled, train_target, classes=classes)\n",
    "    train_score.append(sc.score(train_scaled, train_target))\n",
    "    test_score.append(sc.score(test_scaled, test_target))"
   ]
  },
  {
   "cell_type": "code",
   "execution_count": 31,
   "id": "eaccc8e6-ed5a-4196-9564-7c47503dcaa6",
   "metadata": {},
   "outputs": [
    {
     "data": {
      "image/png": "[encoded data removed]",
      "text/plain": [
       "<Figure size 432x288 with 1 Axes>"
      ]
     },
     "metadata": {
      "needs_background": "light"
     },
     "output_type": "display_data"
    }
   ],
   "source": [
    "import matplotlib.pyplot as plt\n",
    "plt.plot(train_score, label = 'train')\n",
    "plt.plot(test_score, label = 'test')\n",
    "plt.xlabel('epoch')\n",
    "plt.ylabel('accuracy')\n",
    "plt.legend()\n",
    "plt.show()"
   ]
  },
  {
   "cell_type": "code",
   "execution_count": 33,
   "id": "94faf1f9-289a-4a5f-95a0-5a26a89d224d",
   "metadata": {},
   "outputs": [
    {
     "name": "stdout",
     "output_type": "stream",
     "text": [
      "0.957983193277311\n",
      "0.925\n"
     ]
    }
   ],
   "source": [
    "# tol : 자동으로 종료 x -> 무조건 100까지 학습\n",
    "sc = SGDClassifier(loss='log', max_iter = 100, tol=None, random_state=42)\n",
    "sc.fit(train_scaled, train_target)\n",
    "\n",
    "print(sc.score(train_scaled, train_target))\n",
    "print(sc.score(test_scaled, test_target))"
   ]
  }
 ],
 "metadata": {
  "kernelspec": {
   "display_name": "Python 3 (ipykernel)",
   "language": "python",
   "name": "python3"
  },
  "language_info": {
   "codemirror_mode": {
    "name": "ipython",
    "version": 3
   },
   "file_extension": ".py",
   "mimetype": "text/x-python",
   "name": "python",
   "nbconvert_exporter": "python",
   "pygments_lexer": "ipython3",
   "version": "3.9.12"
  }
 },
 "nbformat": 4,
 "nbformat_minor": 5
}
