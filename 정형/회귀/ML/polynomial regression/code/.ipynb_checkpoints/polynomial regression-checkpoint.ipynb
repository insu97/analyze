{
 "cells": [
  {
   "cell_type": "markdown",
   "id": "e0ebb881",
   "metadata": {},
   "source": [
    "# 데이터 준비"
   ]
  },
  {
   "cell_type": "code",
   "execution_count": 84,
   "id": "a2a406ae",
   "metadata": {
    "ExecuteTime": {
     "end_time": "2023-03-10T05:47:14.859182Z",
     "start_time": "2023-03-10T05:47:14.853563Z"
    }
   },
   "outputs": [],
   "source": [
    "import numpy as np\n",
    "\n",
    "perch_length = np.array([8.4, 13.7, 15.0, 16.2, 17.4, 18.0, 18.7, 19.0, 19.6, 20.0, 21.0,\n",
    "       21.0, 21.0, 21.3, 22.0, 22.0, 22.0, 22.0, 22.0, 22.5, 22.5, 22.7,\n",
    "       23.0, 23.5, 24.0, 24.0, 24.6, 25.0, 25.6, 26.5, 27.3, 27.5, 27.5,\n",
    "       27.5, 28.0, 28.7, 30.0, 32.8, 34.5, 35.0, 36.5, 36.0, 37.0, 37.0,\n",
    "       39.0, 39.0, 39.0, 40.0, 40.0, 40.0, 40.0, 42.0, 43.0, 43.0, 43.5,\n",
    "       44.0])\n",
    "perch_weight = np.array([5.9, 32.0, 40.0, 51.5, 70.0, 100.0, 78.0, 80.0, 85.0, 85.0, 110.0,\n",
    "       115.0, 125.0, 130.0, 120.0, 120.0, 130.0, 135.0, 110.0, 130.0,\n",
    "       150.0, 145.0, 150.0, 170.0, 225.0, 145.0, 188.0, 180.0, 197.0,\n",
    "       218.0, 300.0, 260.0, 265.0, 250.0, 250.0, 300.0, 320.0, 514.0,\n",
    "       556.0, 840.0, 685.0, 700.0, 700.0, 690.0, 900.0, 650.0, 820.0,\n",
    "       850.0, 900.0, 1015.0, 820.0, 1100.0, 1000.0, 1100.0, 1000.0,\n",
    "       1000.0])"
   ]
  },
  {
   "cell_type": "markdown",
   "id": "670270cb",
   "metadata": {},
   "source": [
    "# train_test_split"
   ]
  },
  {
   "cell_type": "code",
   "execution_count": 85,
   "id": "5099b2a0",
   "metadata": {
    "ExecuteTime": {
     "end_time": "2023-03-10T05:47:14.890320Z",
     "start_time": "2023-03-10T05:47:14.860187Z"
    }
   },
   "outputs": [],
   "source": [
    "from sklearn.model_selection import train_test_split\n",
    "train_input, test_input, train_target, test_target = train_test_split(perch_length, perch_weight, random_state=42)\n",
    "\n",
    "train_input = train_input.reshape(-1,1)\n",
    "test_input = test_input.reshape(-1,1)"
   ]
  },
  {
   "cell_type": "code",
   "execution_count": 86,
   "id": "368a5d8a",
   "metadata": {
    "ExecuteTime": {
     "end_time": "2023-03-10T05:47:14.905257Z",
     "start_time": "2023-03-10T05:47:14.892320Z"
    }
   },
   "outputs": [],
   "source": [
    "train_poly = np.column_stack((train_input**2, train_input))\n",
    "test_poly = np.column_stack((test_input**2, test_input))"
   ]
  },
  {
   "cell_type": "markdown",
   "id": "c768f2ee",
   "metadata": {},
   "source": [
    "# 학습"
   ]
  },
  {
   "cell_type": "code",
   "execution_count": 87,
   "id": "5ab57555",
   "metadata": {
    "ExecuteTime": {
     "end_time": "2023-03-10T05:47:14.920751Z",
     "start_time": "2023-03-10T05:47:14.907257Z"
    }
   },
   "outputs": [
    {
     "data": {
      "text/plain": [
       "LinearRegression()"
      ]
     },
     "execution_count": 87,
     "metadata": {},
     "output_type": "execute_result"
    }
   ],
   "source": [
    "from sklearn.linear_model import LinearRegression\n",
    "lr = LinearRegression()\n",
    "\n",
    "lr.fit(train_poly, train_target)"
   ]
  },
  {
   "cell_type": "code",
   "execution_count": 88,
   "id": "3c9efc62",
   "metadata": {
    "ExecuteTime": {
     "end_time": "2023-03-10T05:47:14.936818Z",
     "start_time": "2023-03-10T05:47:14.922117Z"
    }
   },
   "outputs": [
    {
     "name": "stdout",
     "output_type": "stream",
     "text": [
      "train :  0.9706807451768623\n",
      "test :  0.9775935108325121\n"
     ]
    }
   ],
   "source": [
    "print(\"train : \", lr.score(train_poly, train_target))\n",
    "print(\"test : \", lr.score(test_poly, test_target))"
   ]
  },
  {
   "cell_type": "code",
   "execution_count": 89,
   "id": "a22771bc",
   "metadata": {
    "ExecuteTime": {
     "end_time": "2023-03-10T05:47:14.952143Z",
     "start_time": "2023-03-10T05:47:14.938520Z"
    }
   },
   "outputs": [
    {
     "name": "stdout",
     "output_type": "stream",
     "text": [
      "[  1.01433211 -21.55792498] 116.05021078278259\n"
     ]
    }
   ],
   "source": [
    "print(lr.coef_, lr.intercept_)"
   ]
  },
  {
   "cell_type": "markdown",
   "id": "eb3d175d",
   "metadata": {},
   "source": [
    "# 시각화"
   ]
  },
  {
   "cell_type": "code",
   "execution_count": 90,
   "id": "a2d7adf0",
   "metadata": {
    "ExecuteTime": {
     "end_time": "2023-03-10T05:47:14.967619Z",
     "start_time": "2023-03-10T05:47:14.953099Z"
    }
   },
   "outputs": [
    {
     "data": {
      "text/plain": [
       "array([1573.98423528])"
      ]
     },
     "execution_count": 90,
     "metadata": {},
     "output_type": "execute_result"
    }
   ],
   "source": [
    "import matplotlib.pyplot as plt\n",
    "\n",
    "lr.predict([[50**2, 50]])"
   ]
  },
  {
   "cell_type": "code",
   "execution_count": 91,
   "id": "0dba76d8",
   "metadata": {
    "ExecuteTime": {
     "end_time": "2023-03-10T05:47:15.061409Z",
     "start_time": "2023-03-10T05:47:14.969615Z"
    }
   },
   "outputs": [
    {
     "data": {
      "image/png": "[encoded data removed]",
      "text/plain": [
       "<Figure size 640x480 with 1 Axes>"
      ]
     },
     "metadata": {},
     "output_type": "display_data"
    }
   ],
   "source": [
    "point = np.arange(15,50)\n",
    "\n",
    "plt.scatter(train_input, train_target)\n",
    "\n",
    "plt.plot(point, 1.01*point**2-21.6*point+116.05)\n",
    "\n",
    "plt.scatter(50,1574, marker='^')\n",
    "plt.xlabel('length')\n",
    "plt.ylabel('weight')\n",
    "plt.show()"
   ]
  },
  {
   "cell_type": "markdown",
   "id": "7327376d",
   "metadata": {},
   "source": [
    "# 규제(regularization)"
   ]
  },
  {
   "cell_type": "code",
   "execution_count": 92,
   "id": "c64ab61d",
   "metadata": {
    "ExecuteTime": {
     "end_time": "2023-03-10T05:47:16.096661Z",
     "start_time": "2023-03-10T05:47:15.062409Z"
    }
   },
   "outputs": [
    {
     "data": {
      "text/html": [
       "<div>\n",
       "<style scoped>\n",
       "    .dataframe tbody tr th:only-of-type {\n",
       "        vertical-align: middle;\n",
       "    }\n",
       "\n",
       "    .dataframe tbody tr th {\n",
       "        vertical-align: top;\n",
       "    }\n",
       "\n",
       "    .dataframe thead th {\n",
       "        text-align: right;\n",
       "    }\n",
       "</style>\n",
       "<table border=\"1\" class=\"dataframe\">\n",
       "  <thead>\n",
       "    <tr style=\"text-align: right;\">\n",
       "      <th></th>\n",
       "      <th>length</th>\n",
       "      <th>height</th>\n",
       "      <th>width</th>\n",
       "    </tr>\n",
       "  </thead>\n",
       "  <tbody>\n",
       "    <tr>\n",
       "      <th>0</th>\n",
       "      <td>8.4</td>\n",
       "      <td>2.11</td>\n",
       "      <td>1.41</td>\n",
       "    </tr>\n",
       "    <tr>\n",
       "      <th>1</th>\n",
       "      <td>13.7</td>\n",
       "      <td>3.53</td>\n",
       "      <td>2.00</td>\n",
       "    </tr>\n",
       "    <tr>\n",
       "      <th>2</th>\n",
       "      <td>15.0</td>\n",
       "      <td>3.82</td>\n",
       "      <td>2.43</td>\n",
       "    </tr>\n",
       "    <tr>\n",
       "      <th>3</th>\n",
       "      <td>16.2</td>\n",
       "      <td>4.59</td>\n",
       "      <td>2.63</td>\n",
       "    </tr>\n",
       "    <tr>\n",
       "      <th>4</th>\n",
       "      <td>17.4</td>\n",
       "      <td>4.59</td>\n",
       "      <td>2.94</td>\n",
       "    </tr>\n",
       "  </tbody>\n",
       "</table>\n",
       "</div>"
      ],
      "text/plain": [
       "   length   height   width\n",
       "0     8.4     2.11    1.41\n",
       "1    13.7     3.53    2.00\n",
       "2    15.0     3.82    2.43\n",
       "3    16.2     4.59    2.63\n",
       "4    17.4     4.59    2.94"
      ]
     },
     "execution_count": 92,
     "metadata": {},
     "output_type": "execute_result"
    }
   ],
   "source": [
    "import pandas as pd\n",
    "\n",
    "df = pd.read_csv(\"https://bit.ly/perch_csv_data\")\n",
    "df.head()"
   ]
  },
  {
   "cell_type": "code",
   "execution_count": 93,
   "id": "65b257e8",
   "metadata": {
    "ExecuteTime": {
     "end_time": "2023-03-10T05:47:16.110561Z",
     "start_time": "2023-03-10T05:47:16.100660Z"
    }
   },
   "outputs": [],
   "source": [
    "perch_full = df.to_numpy()"
   ]
  },
  {
   "cell_type": "markdown",
   "id": "a58b428b",
   "metadata": {},
   "source": [
    "## train_test_split"
   ]
  },
  {
   "cell_type": "code",
   "execution_count": 94,
   "id": "03b30673",
   "metadata": {
    "ExecuteTime": {
     "end_time": "2023-03-10T05:47:16.125679Z",
     "start_time": "2023-03-10T05:47:16.112638Z"
    }
   },
   "outputs": [],
   "source": [
    "from sklearn.model_selection import train_test_split\n",
    "train_input, test_input, train_target, test_target = train_test_split(perch_full, perch_weight, random_state=42)"
   ]
  },
  {
   "cell_type": "markdown",
   "id": "65e0fbcf",
   "metadata": {},
   "source": [
    "## 변환기\n",
    "    - PolynomialFeatures : 각 특성을 제곱한 항을 추가하고 특성끼리 서로 곱한 항을 추가한다."
   ]
  },
  {
   "cell_type": "code",
   "execution_count": 95,
   "id": "357d97e3",
   "metadata": {
    "ExecuteTime": {
     "end_time": "2023-03-10T05:47:16.141180Z",
     "start_time": "2023-03-10T05:47:16.127679Z"
    }
   },
   "outputs": [
    {
     "name": "stdout",
     "output_type": "stream",
     "text": [
      "(42, 9)\n"
     ]
    }
   ],
   "source": [
    "from sklearn.preprocessing import PolynomialFeatures\n",
    "\n",
    "poly = PolynomialFeatures(include_bias = False)\n",
    "poly.fit(train_input)\n",
    "train_poly = poly.transform(train_input)\n",
    "test_poly = poly.transform(test_input)\n",
    "print(train_poly.shape)"
   ]
  },
  {
   "cell_type": "code",
   "execution_count": 96,
   "id": "854884b9",
   "metadata": {
    "ExecuteTime": {
     "end_time": "2023-03-10T05:47:16.156589Z",
     "start_time": "2023-03-10T05:47:16.143289Z"
    }
   },
   "outputs": [
    {
     "data": {
      "text/plain": [
       "['x0', 'x1', 'x2', 'x0^2', 'x0 x1', 'x0 x2', 'x1^2', 'x1 x2', 'x2^2']"
      ]
     },
     "execution_count": 96,
     "metadata": {},
     "output_type": "execute_result"
    }
   ],
   "source": [
    "poly.get_feature_names()"
   ]
  },
  {
   "cell_type": "markdown",
   "id": "1fa9303e",
   "metadata": {},
   "source": [
    "## 훈련"
   ]
  },
  {
   "cell_type": "code",
   "execution_count": 97,
   "id": "5a46c727",
   "metadata": {
    "ExecuteTime": {
     "end_time": "2023-03-10T05:47:16.172155Z",
     "start_time": "2023-03-10T05:47:16.158587Z"
    }
   },
   "outputs": [
    {
     "name": "stdout",
     "output_type": "stream",
     "text": [
      "train :  0.9903183436982124\n",
      "test :  0.971455991159408\n"
     ]
    }
   ],
   "source": [
    "lr.fit(train_poly, train_target)\n",
    "\n",
    "print('train : ', lr.score(train_poly, train_target))\n",
    "print('test : ', lr.score(test_poly, test_target))"
   ]
  },
  {
   "cell_type": "markdown",
   "id": "856cadf9",
   "metadata": {},
   "source": [
    "## 문제점"
   ]
  },
  {
   "cell_type": "code",
   "execution_count": 98,
   "id": "056c4d22",
   "metadata": {
    "ExecuteTime": {
     "end_time": "2023-03-10T05:47:16.187948Z",
     "start_time": "2023-03-10T05:47:16.174236Z"
    }
   },
   "outputs": [
    {
     "name": "stdout",
     "output_type": "stream",
     "text": [
      "(42, 55)\n"
     ]
    }
   ],
   "source": [
    "poly = PolynomialFeatures(degree = 5, include_bias = False)\n",
    "poly.fit(train_input)\n",
    "train_poly = poly.transform(train_input)\n",
    "test_poly = poly.transform(test_input)\n",
    "print(train_poly.shape)"
   ]
  },
  {
   "cell_type": "code",
   "execution_count": 99,
   "id": "ea519b96",
   "metadata": {
    "ExecuteTime": {
     "end_time": "2023-03-10T05:47:16.203347Z",
     "start_time": "2023-03-10T05:47:16.191294Z"
    }
   },
   "outputs": [
    {
     "name": "stdout",
     "output_type": "stream",
     "text": [
      "train :  0.999999999999586\n",
      "test :  -144.405781301649\n"
     ]
    }
   ],
   "source": [
    "lr.fit(train_poly, train_target)\n",
    "\n",
    "print('train : ', lr.score(train_poly, train_target))\n",
    "print('test : ', lr.score(test_poly, test_target))"
   ]
  },
  {
   "cell_type": "markdown",
   "id": "f41851b6",
   "metadata": {},
   "source": [
    "## 정규화"
   ]
  },
  {
   "cell_type": "code",
   "execution_count": 100,
   "id": "18c6ffc8",
   "metadata": {
    "ExecuteTime": {
     "end_time": "2023-03-10T05:47:16.218921Z",
     "start_time": "2023-03-10T05:47:16.204415Z"
    }
   },
   "outputs": [],
   "source": [
    "from sklearn.preprocessing import StandardScaler\n",
    "ss = StandardScaler()\n",
    "ss.fit(train_poly)\n",
    "train_scaled = ss.transform(train_poly)\n",
    "test_scaled = ss.transform(test_poly)"
   ]
  },
  {
   "cell_type": "markdown",
   "id": "8ebb231a",
   "metadata": {},
   "source": [
    "## 릿지(ridge)\n",
    "    - 계수를 제곱한 값을 기준으로 규제를 적용\n",
    "    - solver 매개변수에 최적의 모델을 찾기 위한 방법을 지정할 수 있다.\n",
    "    - sag : 확률적 평균 경사하강법으로 특성과 샘플 수가 많을 때 성능이 빠르고 좋다.(혹은 saga)"
   ]
  },
  {
   "cell_type": "code",
   "execution_count": 101,
   "id": "b2c0e7c8",
   "metadata": {
    "ExecuteTime": {
     "end_time": "2023-03-10T05:47:16.234717Z",
     "start_time": "2023-03-10T05:47:16.220019Z"
    }
   },
   "outputs": [
    {
     "name": "stdout",
     "output_type": "stream",
     "text": [
      "train :  0.9896101671037343\n",
      "test :  0.9790693977615388\n"
     ]
    }
   ],
   "source": [
    "from sklearn.linear_model import Ridge\n",
    "\n",
    "ridge = Ridge()\n",
    "ridge.fit(train_scaled, train_target)\n",
    "\n",
    "print(\"train : \", ridge.score(train_scaled, train_target))\n",
    "print(\"test : \", ridge.score(test_scaled, test_target))"
   ]
  },
  {
   "cell_type": "code",
   "execution_count": 102,
   "id": "738a9862",
   "metadata": {
    "ExecuteTime": {
     "end_time": "2023-03-10T05:47:16.249966Z",
     "start_time": "2023-03-10T05:47:16.236190Z"
    }
   },
   "outputs": [],
   "source": [
    "# alpha 값이 크면 규제 강도가 세진다 -> 과소적합되도록 유도\n",
    "\n",
    "train_score = []\n",
    "test_score = []\n",
    "\n",
    "alpha_list = [0.001, 0.01, 0.1, 1, 10, 100]\n",
    "for alpha in alpha_list :\n",
    "    ridge = Ridge(alpha=alpha)\n",
    "    ridge.fit(train_scaled, train_target)\n",
    "    train_score.append(ridge.score(train_scaled, train_target))\n",
    "    test_score.append(ridge.score(test_scaled, test_target))"
   ]
  },
  {
   "cell_type": "code",
   "execution_count": 103,
   "id": "f4ac27c5",
   "metadata": {
    "ExecuteTime": {
     "end_time": "2023-03-10T05:47:16.265931Z",
     "start_time": "2023-03-10T05:47:16.251014Z"
    }
   },
   "outputs": [],
   "source": [
    "import matplotlib\n",
    "matplotlib.rcParams['axes.unicode_minus'] = False"
   ]
  },
  {
   "cell_type": "code",
   "execution_count": 104,
   "id": "8d79514e",
   "metadata": {
    "ExecuteTime": {
     "end_time": "2023-03-10T05:47:16.359247Z",
     "start_time": "2023-03-10T05:47:16.268939Z"
    }
   },
   "outputs": [
    {
     "data": {
      "image/png": "[encoded data removed]",
      "text/plain": [
       "<Figure size 640x480 with 1 Axes>"
      ]
     },
     "metadata": {},
     "output_type": "display_data"
    }
   ],
   "source": [
    "plt.plot(np.log10(alpha_list), train_score, label='train')\n",
    "plt.plot(np.log10(alpha_list), test_score, label='test')\n",
    "plt.xlabel('alpha')\n",
    "plt.ylabel('R^2')\n",
    "plt.legend()\n",
    "plt.show()"
   ]
  },
  {
   "cell_type": "code",
   "execution_count": 105,
   "id": "d1234eec",
   "metadata": {
    "ExecuteTime": {
     "end_time": "2023-03-10T05:47:16.374417Z",
     "start_time": "2023-03-10T05:47:16.361418Z"
    }
   },
   "outputs": [
    {
     "name": "stdout",
     "output_type": "stream",
     "text": [
      "train :  0.9903815817570364\n",
      "test :  0.9827976465386874\n"
     ]
    }
   ],
   "source": [
    "ridge = Ridge(alpha=0.1)\n",
    "ridge.fit(train_scaled, train_target)\n",
    "\n",
    "print(\"train : \", ridge.score(train_scaled, train_target))\n",
    "print(\"test : \", ridge.score(test_scaled, test_target))"
   ]
  },
  {
   "cell_type": "markdown",
   "id": "f76259ba",
   "metadata": {},
   "source": [
    "## 라쏘(lasso)\n",
    "    - 계수의 절댓값을 기준으로 규제를 적용\n",
    "    - 최적의 모델을 찾기 위해 좌표축을 따라 최적화를 수행해가는 좌표 하강법을 사용"
   ]
  },
  {
   "cell_type": "code",
   "execution_count": 106,
   "id": "8d803df2",
   "metadata": {
    "ExecuteTime": {
     "end_time": "2023-03-10T05:47:16.389685Z",
     "start_time": "2023-03-10T05:47:16.375424Z"
    }
   },
   "outputs": [
    {
     "name": "stdout",
     "output_type": "stream",
     "text": [
      "train :  0.989789897208096\n",
      "test :  0.9800593698421886\n"
     ]
    }
   ],
   "source": [
    "from sklearn.linear_model import Lasso\n",
    "lasso = Lasso()\n",
    "lasso.fit(train_scaled, train_target)\n",
    "\n",
    "print(\"train : \", lasso.score(train_scaled, train_target))\n",
    "print(\"test : \", lasso.score(test_scaled, test_target))"
   ]
  },
  {
   "cell_type": "code",
   "execution_count": 107,
   "id": "978460ec",
   "metadata": {
    "ExecuteTime": {
     "end_time": "2023-03-10T05:47:16.466905Z",
     "start_time": "2023-03-10T05:47:16.392167Z"
    }
   },
   "outputs": [
    {
     "name": "stderr",
     "output_type": "stream",
     "text": [
      "C:\\Users\\USER\\AppData\\Roaming\\Python\\Python39\\site-packages\\sklearn\\linear_model\\_coordinate_descent.py:529: ConvergenceWarning: Objective did not converge. You might want to increase the number of iterations. Duality gap: 18778.69795779461, tolerance: 518.2793833333334\n",
      "  model = cd_fast.enet_coordinate_descent(\n",
      "C:\\Users\\USER\\AppData\\Roaming\\Python\\Python39\\site-packages\\sklearn\\linear_model\\_coordinate_descent.py:529: ConvergenceWarning: Objective did not converge. You might want to increase the number of iterations. Duality gap: 12972.82134540023, tolerance: 518.2793833333334\n",
      "  model = cd_fast.enet_coordinate_descent(\n"
     ]
    }
   ],
   "source": [
    "# alpha 값이 크면 규제 강도가 세진다 -> 과소적합되도록 유도\n",
    "\n",
    "train_score = []\n",
    "test_score = []\n",
    "\n",
    "alpha_list = [0.001, 0.01, 0.1, 1, 10, 100]\n",
    "for alpha in alpha_list :\n",
    "    lasso = Lasso(alpha=alpha, max_iter=10000) # ConvergenceWarning 오류가 뜬다면 max_iter 값을 늘려주면 된다!\n",
    "    lasso.fit(train_scaled, train_target)\n",
    "    train_score.append(lasso.score(train_scaled, train_target))\n",
    "    test_score.append(lasso.score(test_scaled, test_target))"
   ]
  },
  {
   "cell_type": "code",
   "execution_count": 108,
   "id": "6ad05ae3",
   "metadata": {
    "ExecuteTime": {
     "end_time": "2023-03-10T05:47:16.559862Z",
     "start_time": "2023-03-10T05:47:16.469323Z"
    }
   },
   "outputs": [
    {
     "data": {
      "image/png": "[encoded data removed]",
      "text/plain": [
       "<Figure size 640x480 with 1 Axes>"
      ]
     },
     "metadata": {},
     "output_type": "display_data"
    }
   ],
   "source": [
    "plt.plot(np.log10(alpha_list), train_score, label='train')\n",
    "plt.plot(np.log10(alpha_list), test_score, label='test')\n",
    "plt.xlabel('alpha')\n",
    "plt.ylabel('R^2')\n",
    "plt.legend()\n",
    "plt.show()"
   ]
  },
  {
   "cell_type": "code",
   "execution_count": 109,
   "id": "14d2a9e8",
   "metadata": {
    "ExecuteTime": {
     "end_time": "2023-03-10T05:47:16.575376Z",
     "start_time": "2023-03-10T05:47:16.560905Z"
    }
   },
   "outputs": [
    {
     "name": "stdout",
     "output_type": "stream",
     "text": [
      "train :  0.9888067471131866\n",
      "test :  0.9824470598706696\n"
     ]
    }
   ],
   "source": [
    "lasso = Lasso(alpha=10)\n",
    "lasso.fit(train_scaled, train_target)\n",
    "\n",
    "print(\"train : \", lasso.score(train_scaled, train_target))\n",
    "print(\"test : \", lasso.score(test_scaled, test_target))"
   ]
  }
 ],
 "metadata": {
  "hide_input": false,
  "kernelspec": {
   "display_name": "Python 3 (ipykernel)",
   "language": "python",
   "name": "python3"
  },
  "language_info": {
   "codemirror_mode": {
    "name": "ipython",
    "version": 3
   },
   "file_extension": ".py",
   "mimetype": "text/x-python",
   "name": "python",
   "nbconvert_exporter": "python",
   "pygments_lexer": "ipython3",
   "version": "3.9.13"
  },
  "toc": {
   "base_numbering": 1,
   "nav_menu": {},
   "number_sections": true,
   "sideBar": true,
   "skip_h1_title": false,
   "title_cell": "Table of Contents",
   "title_sidebar": "Contents",
   "toc_cell": false,
   "toc_position": {},
   "toc_section_display": true,
   "toc_window_display": true
  },
  "varInspector": {
   "cols": {
    "lenName": 16,
    "lenType": 16,
    "lenVar": 40
   },
   "kernels_config": {
    "python": {
     "delete_cmd_postfix": "",
     "delete_cmd_prefix": "del ",
     "library": "var_list.py",
     "varRefreshCmd": "print(var_dic_list())"
    },
    "r": {
     "delete_cmd_postfix": ") ",
     "delete_cmd_prefix": "rm(",
     "library": "var_list.r",
     "varRefreshCmd": "cat(var_dic_list()) "
    }
   },
   "types_to_exclude": [
    "module",
    "function",
    "builtin_function_or_method",
    "instance",
    "_Feature"
   ],
   "window_display": false
  }
 },
 "nbformat": 4,
 "nbformat_minor": 5
}
